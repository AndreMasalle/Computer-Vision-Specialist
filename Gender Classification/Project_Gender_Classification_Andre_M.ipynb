{
  "cells": [
    {
      "cell_type": "markdown",
      "metadata": {
        "id": "76iuNehO5ayI"
      },
      "source": [
        "# Project 1 - Gender Classification w GoogleNet\n",
        "\n",
        "> **Disclaimer**: Hasil di notebook ini berbeda karena sudah di run ulang dan sebelumnya belum menggunakan seed"
      ]
    },
    {
      "cell_type": "code",
      "execution_count": 1,
      "metadata": {
        "id": "kiXxLLj13TB6"
      },
      "outputs": [],
      "source": [
        "import torch\n",
        "import torch.nn as nn\n",
        "import torch.optim as optim\n",
        "from torch.utils.data import Dataset, DataLoader\n",
        "import torchvision.transforms as transforms\n",
        "import torchvision.models as models\n",
        "import pandas as pd\n",
        "import os\n",
        "from PIL import Image\n",
        "import numpy as np\n",
        "from sklearn.metrics import accuracy_score, classification_report\n"
      ]
    },
    {
      "cell_type": "code",
      "execution_count": 2,
      "metadata": {
        "colab": {
          "base_uri": "https://localhost:8080/"
        },
        "id": "fbkz7UaR3tjw",
        "outputId": "658f2dce-194c-44ca-8d89-fec239c28d08"
      },
      "outputs": [
        {
          "name": "stdout",
          "output_type": "stream",
          "text": [
            "Mounted at /content/drive\n"
          ]
        }
      ],
      "source": [
        "from google.colab import drive\n",
        "drive.mount('/content/drive')"
      ]
    },
    {
      "cell_type": "code",
      "execution_count": 3,
      "metadata": {
        "id": "8QdqDl7i3vAF"
      },
      "outputs": [],
      "source": [
        "class GenderDataset(Dataset):\n",
        "    def __init__(self, df_attributes, image_folder, transform=None):\n",
        "        self.df = df_attributes\n",
        "        self.image_folder = image_folder\n",
        "        self.transform = transform\n",
        "\n",
        "    def __len__(self):\n",
        "        return len(self.df)\n",
        "\n",
        "    def __getitem__(self, idx):\n",
        "        filename = self.df.iloc[idx, 0]  # kolom pertama adalah filename\n",
        "        image_path = os.path.join(self.image_folder, filename)\n",
        "        image = Image.open(image_path).convert('RGB')\n",
        "\n",
        "        # Kolom Male ada di index 21 (0-indexed) berdasarkan list_attribute.txt\n",
        "        male_label = self.df.iloc[idx, 21]\n",
        "        label = 1 if male_label == 1 else 0  # 1 untuk Male, 0 untuk Female\n",
        "\n",
        "        # Convert ke tensor\n",
        "        image = transforms.ToTensor()(image)\n",
        "\n",
        "        return image, label"
      ]
    },
    {
      "cell_type": "code",
      "execution_count": 4,
      "metadata": {
        "id": "TF8bmtLO3wgE"
      },
      "outputs": [],
      "source": [
        "image_folder = '/content/drive/MyDrive/Dataset-CV/Gender_Classification/Images'\n",
        "attribute_path = '/content/drive/MyDrive/Dataset-CV/Gender_Classification/list_attribute.txt'"
      ]
    },
    {
      "cell_type": "code",
      "execution_count": 5,
      "metadata": {
        "id": "Ot74Kj8p3xu_"
      },
      "outputs": [],
      "source": [
        "with open(attribute_path, 'r') as f:\n",
        "    lines = f.readlines()"
      ]
    },
    {
      "cell_type": "code",
      "execution_count": 6,
      "metadata": {
        "id": "4I77Uk033ytt"
      },
      "outputs": [],
      "source": [
        "header = lines[1].strip().split()\n",
        "data_lines = lines[2:]"
      ]
    },
    {
      "cell_type": "code",
      "execution_count": 7,
      "metadata": {
        "colab": {
          "base_uri": "https://localhost:8080/"
        },
        "id": "sq8siGbL3zs5",
        "outputId": "978cc3ed-aea8-483c-d738-6735533ca32d"
      },
      "outputs": [
        {
          "data": {
            "text/plain": [
              "['5_o_Clock_Shadow',\n",
              " 'Arched_Eyebrows',\n",
              " 'Attractive',\n",
              " 'Bags_Under_Eyes',\n",
              " 'Bald',\n",
              " 'Bangs',\n",
              " 'Big_Lips',\n",
              " 'Big_Nose',\n",
              " 'Black_Hair',\n",
              " 'Blond_Hair',\n",
              " 'Blurry',\n",
              " 'Brown_Hair',\n",
              " 'Bushy_Eyebrows',\n",
              " 'Chubby',\n",
              " 'Double_Chin',\n",
              " 'Eyeglasses',\n",
              " 'Goatee',\n",
              " 'Gray_Hair',\n",
              " 'Heavy_Makeup',\n",
              " 'High_Cheekbones',\n",
              " 'Male',\n",
              " 'Mouth_Slightly_Open',\n",
              " 'Mustache',\n",
              " 'Narrow_Eyes',\n",
              " 'No_Beard',\n",
              " 'Oval_Face',\n",
              " 'Pale_Skin',\n",
              " 'Pointy_Nose',\n",
              " 'Receding_Hairline',\n",
              " 'Rosy_Cheeks',\n",
              " 'Sideburns',\n",
              " 'Smiling',\n",
              " 'Straight_Hair',\n",
              " 'Wavy_Hair',\n",
              " 'Wearing_Earrings',\n",
              " 'Wearing_Hat',\n",
              " 'Wearing_Lipstick',\n",
              " 'Wearing_Necklace',\n",
              " 'Wearing_Necktie',\n",
              " 'Young']"
            ]
          },
          "execution_count": 7,
          "metadata": {},
          "output_type": "execute_result"
        }
      ],
      "source": [
        "header"
      ]
    },
    {
      "cell_type": "code",
      "execution_count": 8,
      "metadata": {
        "colab": {
          "base_uri": "https://localhost:8080/",
          "height": 35
        },
        "id": "bz1ptJkh31Vz",
        "outputId": "904ae06f-df87-41e3-c35e-2834434d7296"
      },
      "outputs": [
        {
          "data": {
            "application/vnd.google.colaboratory.intrinsic+json": {
              "type": "string"
            },
            "text/plain": [
              "'000001.jpg -1  1  1 -1 -1 -1 -1 -1 -1 -1 -1  1 -1 -1 -1 -1 -1 -1  1  1 -1  1 -1 -1  1 -1 -1  1 -1 -1 -1  1  1 -1  1 -1  1 -1 -1  1\\n'"
            ]
          },
          "execution_count": 8,
          "metadata": {},
          "output_type": "execute_result"
        }
      ],
      "source": [
        "data_lines[0]"
      ]
    },
    {
      "cell_type": "code",
      "execution_count": 9,
      "metadata": {
        "colab": {
          "base_uri": "https://localhost:8080/"
        },
        "id": "4mJHXaZ633I-",
        "outputId": "f64dce08-e5ca-4aa1-a932-53da1321ff58"
      },
      "outputs": [
        {
          "name": "stdout",
          "output_type": "stream",
          "text": [
            "Total samples: 5000\n",
            "Male count: 2047\n",
            "Female count: 2953\n"
          ]
        }
      ],
      "source": [
        "# Parsing data di list_attribute.txt\n",
        "data = []\n",
        "for line in data_lines:\n",
        "    parts = line.strip().split()\n",
        "    filename = parts[0]\n",
        "    attributes = [int(x) for x in parts[1:]]\n",
        "    data.append([filename] + attributes)\n",
        "\n",
        "columns = ['filename'] + header\n",
        "df_attributes = pd.DataFrame(data, columns=columns)\n",
        "\n",
        "# Filter gambar yang ditemukan di image folder dan `filename` dari df_attributes\n",
        "existing_files = []\n",
        "for idx, row in df_attributes.iterrows():\n",
        "    filename = row['filename']\n",
        "    image_path = os.path.join(image_folder, filename)\n",
        "    if os.path.exists(image_path):\n",
        "        existing_files.append(idx)\n",
        "\n",
        "df_attributes = df_attributes.iloc[existing_files].reset_index(drop=True) # Filter berdasarkan existing_files, reset index dan buang index lama\n",
        "\n",
        "print(f\"Total samples: {len(df_attributes)}\")\n",
        "print(f\"Male count: {(df_attributes['Male'] == 1).sum()}\")\n",
        "print(f\"Female count: {(df_attributes['Male'] == -1).sum()}\")"
      ]
    },
    {
      "cell_type": "code",
      "execution_count": 10,
      "metadata": {
        "colab": {
          "base_uri": "https://localhost:8080/",
          "height": 255
        },
        "id": "BFzO3ici36GL",
        "outputId": "2442a615-9c61-42ca-a2f9-5872284072f7"
      },
      "outputs": [
        {
          "data": {
            "application/vnd.google.colaboratory.intrinsic+json": {
              "type": "dataframe",
              "variable_name": "df_attributes"
            },
            "text/html": [
              "\n",
              "  <div id=\"df-dca134d7-8766-409d-8366-83c6b8b392ef\" class=\"colab-df-container\">\n",
              "    <div>\n",
              "<style scoped>\n",
              "    .dataframe tbody tr th:only-of-type {\n",
              "        vertical-align: middle;\n",
              "    }\n",
              "\n",
              "    .dataframe tbody tr th {\n",
              "        vertical-align: top;\n",
              "    }\n",
              "\n",
              "    .dataframe thead th {\n",
              "        text-align: right;\n",
              "    }\n",
              "</style>\n",
              "<table border=\"1\" class=\"dataframe\">\n",
              "  <thead>\n",
              "    <tr style=\"text-align: right;\">\n",
              "      <th></th>\n",
              "      <th>filename</th>\n",
              "      <th>5_o_Clock_Shadow</th>\n",
              "      <th>Arched_Eyebrows</th>\n",
              "      <th>Attractive</th>\n",
              "      <th>Bags_Under_Eyes</th>\n",
              "      <th>Bald</th>\n",
              "      <th>Bangs</th>\n",
              "      <th>Big_Lips</th>\n",
              "      <th>Big_Nose</th>\n",
              "      <th>Black_Hair</th>\n",
              "      <th>...</th>\n",
              "      <th>Sideburns</th>\n",
              "      <th>Smiling</th>\n",
              "      <th>Straight_Hair</th>\n",
              "      <th>Wavy_Hair</th>\n",
              "      <th>Wearing_Earrings</th>\n",
              "      <th>Wearing_Hat</th>\n",
              "      <th>Wearing_Lipstick</th>\n",
              "      <th>Wearing_Necklace</th>\n",
              "      <th>Wearing_Necktie</th>\n",
              "      <th>Young</th>\n",
              "    </tr>\n",
              "  </thead>\n",
              "  <tbody>\n",
              "    <tr>\n",
              "      <th>0</th>\n",
              "      <td>000051.jpg</td>\n",
              "      <td>1</td>\n",
              "      <td>-1</td>\n",
              "      <td>-1</td>\n",
              "      <td>1</td>\n",
              "      <td>1</td>\n",
              "      <td>-1</td>\n",
              "      <td>-1</td>\n",
              "      <td>1</td>\n",
              "      <td>-1</td>\n",
              "      <td>...</td>\n",
              "      <td>-1</td>\n",
              "      <td>-1</td>\n",
              "      <td>-1</td>\n",
              "      <td>-1</td>\n",
              "      <td>-1</td>\n",
              "      <td>-1</td>\n",
              "      <td>-1</td>\n",
              "      <td>-1</td>\n",
              "      <td>-1</td>\n",
              "      <td>-1</td>\n",
              "    </tr>\n",
              "    <tr>\n",
              "      <th>1</th>\n",
              "      <td>000052.jpg</td>\n",
              "      <td>-1</td>\n",
              "      <td>-1</td>\n",
              "      <td>-1</td>\n",
              "      <td>1</td>\n",
              "      <td>-1</td>\n",
              "      <td>-1</td>\n",
              "      <td>-1</td>\n",
              "      <td>1</td>\n",
              "      <td>-1</td>\n",
              "      <td>...</td>\n",
              "      <td>-1</td>\n",
              "      <td>-1</td>\n",
              "      <td>1</td>\n",
              "      <td>-1</td>\n",
              "      <td>-1</td>\n",
              "      <td>-1</td>\n",
              "      <td>-1</td>\n",
              "      <td>-1</td>\n",
              "      <td>-1</td>\n",
              "      <td>-1</td>\n",
              "    </tr>\n",
              "    <tr>\n",
              "      <th>2</th>\n",
              "      <td>000065.jpg</td>\n",
              "      <td>-1</td>\n",
              "      <td>-1</td>\n",
              "      <td>-1</td>\n",
              "      <td>-1</td>\n",
              "      <td>-1</td>\n",
              "      <td>-1</td>\n",
              "      <td>-1</td>\n",
              "      <td>-1</td>\n",
              "      <td>1</td>\n",
              "      <td>...</td>\n",
              "      <td>-1</td>\n",
              "      <td>1</td>\n",
              "      <td>1</td>\n",
              "      <td>-1</td>\n",
              "      <td>-1</td>\n",
              "      <td>-1</td>\n",
              "      <td>-1</td>\n",
              "      <td>-1</td>\n",
              "      <td>-1</td>\n",
              "      <td>1</td>\n",
              "    </tr>\n",
              "    <tr>\n",
              "      <th>3</th>\n",
              "      <td>000166.jpg</td>\n",
              "      <td>1</td>\n",
              "      <td>-1</td>\n",
              "      <td>-1</td>\n",
              "      <td>-1</td>\n",
              "      <td>-1</td>\n",
              "      <td>-1</td>\n",
              "      <td>-1</td>\n",
              "      <td>1</td>\n",
              "      <td>-1</td>\n",
              "      <td>...</td>\n",
              "      <td>1</td>\n",
              "      <td>-1</td>\n",
              "      <td>-1</td>\n",
              "      <td>-1</td>\n",
              "      <td>-1</td>\n",
              "      <td>1</td>\n",
              "      <td>-1</td>\n",
              "      <td>-1</td>\n",
              "      <td>-1</td>\n",
              "      <td>-1</td>\n",
              "    </tr>\n",
              "    <tr>\n",
              "      <th>4</th>\n",
              "      <td>000198.jpg</td>\n",
              "      <td>-1</td>\n",
              "      <td>1</td>\n",
              "      <td>1</td>\n",
              "      <td>-1</td>\n",
              "      <td>-1</td>\n",
              "      <td>-1</td>\n",
              "      <td>-1</td>\n",
              "      <td>-1</td>\n",
              "      <td>-1</td>\n",
              "      <td>...</td>\n",
              "      <td>-1</td>\n",
              "      <td>-1</td>\n",
              "      <td>-1</td>\n",
              "      <td>-1</td>\n",
              "      <td>-1</td>\n",
              "      <td>-1</td>\n",
              "      <td>1</td>\n",
              "      <td>-1</td>\n",
              "      <td>-1</td>\n",
              "      <td>1</td>\n",
              "    </tr>\n",
              "  </tbody>\n",
              "</table>\n",
              "<p>5 rows × 41 columns</p>\n",
              "</div>\n",
              "    <div class=\"colab-df-buttons\">\n",
              "\n",
              "  <div class=\"colab-df-container\">\n",
              "    <button class=\"colab-df-convert\" onclick=\"convertToInteractive('df-dca134d7-8766-409d-8366-83c6b8b392ef')\"\n",
              "            title=\"Convert this dataframe to an interactive table.\"\n",
              "            style=\"display:none;\">\n",
              "\n",
              "  <svg xmlns=\"http://www.w3.org/2000/svg\" height=\"24px\" viewBox=\"0 -960 960 960\">\n",
              "    <path d=\"M120-120v-720h720v720H120Zm60-500h600v-160H180v160Zm220 220h160v-160H400v160Zm0 220h160v-160H400v160ZM180-400h160v-160H180v160Zm440 0h160v-160H620v160ZM180-180h160v-160H180v160Zm440 0h160v-160H620v160Z\"/>\n",
              "  </svg>\n",
              "    </button>\n",
              "\n",
              "  <style>\n",
              "    .colab-df-container {\n",
              "      display:flex;\n",
              "      gap: 12px;\n",
              "    }\n",
              "\n",
              "    .colab-df-convert {\n",
              "      background-color: #E8F0FE;\n",
              "      border: none;\n",
              "      border-radius: 50%;\n",
              "      cursor: pointer;\n",
              "      display: none;\n",
              "      fill: #1967D2;\n",
              "      height: 32px;\n",
              "      padding: 0 0 0 0;\n",
              "      width: 32px;\n",
              "    }\n",
              "\n",
              "    .colab-df-convert:hover {\n",
              "      background-color: #E2EBFA;\n",
              "      box-shadow: 0px 1px 2px rgba(60, 64, 67, 0.3), 0px 1px 3px 1px rgba(60, 64, 67, 0.15);\n",
              "      fill: #174EA6;\n",
              "    }\n",
              "\n",
              "    .colab-df-buttons div {\n",
              "      margin-bottom: 4px;\n",
              "    }\n",
              "\n",
              "    [theme=dark] .colab-df-convert {\n",
              "      background-color: #3B4455;\n",
              "      fill: #D2E3FC;\n",
              "    }\n",
              "\n",
              "    [theme=dark] .colab-df-convert:hover {\n",
              "      background-color: #434B5C;\n",
              "      box-shadow: 0px 1px 3px 1px rgba(0, 0, 0, 0.15);\n",
              "      filter: drop-shadow(0px 1px 2px rgba(0, 0, 0, 0.3));\n",
              "      fill: #FFFFFF;\n",
              "    }\n",
              "  </style>\n",
              "\n",
              "    <script>\n",
              "      const buttonEl =\n",
              "        document.querySelector('#df-dca134d7-8766-409d-8366-83c6b8b392ef button.colab-df-convert');\n",
              "      buttonEl.style.display =\n",
              "        google.colab.kernel.accessAllowed ? 'block' : 'none';\n",
              "\n",
              "      async function convertToInteractive(key) {\n",
              "        const element = document.querySelector('#df-dca134d7-8766-409d-8366-83c6b8b392ef');\n",
              "        const dataTable =\n",
              "          await google.colab.kernel.invokeFunction('convertToInteractive',\n",
              "                                                    [key], {});\n",
              "        if (!dataTable) return;\n",
              "\n",
              "        const docLinkHtml = 'Like what you see? Visit the ' +\n",
              "          '<a target=\"_blank\" href=https://colab.research.google.com/notebooks/data_table.ipynb>data table notebook</a>'\n",
              "          + ' to learn more about interactive tables.';\n",
              "        element.innerHTML = '';\n",
              "        dataTable['output_type'] = 'display_data';\n",
              "        await google.colab.output.renderOutput(dataTable, element);\n",
              "        const docLink = document.createElement('div');\n",
              "        docLink.innerHTML = docLinkHtml;\n",
              "        element.appendChild(docLink);\n",
              "      }\n",
              "    </script>\n",
              "  </div>\n",
              "\n",
              "\n",
              "    <div id=\"df-acbdbe85-a164-4254-87c6-46e804052c10\">\n",
              "      <button class=\"colab-df-quickchart\" onclick=\"quickchart('df-acbdbe85-a164-4254-87c6-46e804052c10')\"\n",
              "                title=\"Suggest charts\"\n",
              "                style=\"display:none;\">\n",
              "\n",
              "<svg xmlns=\"http://www.w3.org/2000/svg\" height=\"24px\"viewBox=\"0 0 24 24\"\n",
              "     width=\"24px\">\n",
              "    <g>\n",
              "        <path d=\"M19 3H5c-1.1 0-2 .9-2 2v14c0 1.1.9 2 2 2h14c1.1 0 2-.9 2-2V5c0-1.1-.9-2-2-2zM9 17H7v-7h2v7zm4 0h-2V7h2v10zm4 0h-2v-4h2v4z\"/>\n",
              "    </g>\n",
              "</svg>\n",
              "      </button>\n",
              "\n",
              "<style>\n",
              "  .colab-df-quickchart {\n",
              "      --bg-color: #E8F0FE;\n",
              "      --fill-color: #1967D2;\n",
              "      --hover-bg-color: #E2EBFA;\n",
              "      --hover-fill-color: #174EA6;\n",
              "      --disabled-fill-color: #AAA;\n",
              "      --disabled-bg-color: #DDD;\n",
              "  }\n",
              "\n",
              "  [theme=dark] .colab-df-quickchart {\n",
              "      --bg-color: #3B4455;\n",
              "      --fill-color: #D2E3FC;\n",
              "      --hover-bg-color: #434B5C;\n",
              "      --hover-fill-color: #FFFFFF;\n",
              "      --disabled-bg-color: #3B4455;\n",
              "      --disabled-fill-color: #666;\n",
              "  }\n",
              "\n",
              "  .colab-df-quickchart {\n",
              "    background-color: var(--bg-color);\n",
              "    border: none;\n",
              "    border-radius: 50%;\n",
              "    cursor: pointer;\n",
              "    display: none;\n",
              "    fill: var(--fill-color);\n",
              "    height: 32px;\n",
              "    padding: 0;\n",
              "    width: 32px;\n",
              "  }\n",
              "\n",
              "  .colab-df-quickchart:hover {\n",
              "    background-color: var(--hover-bg-color);\n",
              "    box-shadow: 0 1px 2px rgba(60, 64, 67, 0.3), 0 1px 3px 1px rgba(60, 64, 67, 0.15);\n",
              "    fill: var(--button-hover-fill-color);\n",
              "  }\n",
              "\n",
              "  .colab-df-quickchart-complete:disabled,\n",
              "  .colab-df-quickchart-complete:disabled:hover {\n",
              "    background-color: var(--disabled-bg-color);\n",
              "    fill: var(--disabled-fill-color);\n",
              "    box-shadow: none;\n",
              "  }\n",
              "\n",
              "  .colab-df-spinner {\n",
              "    border: 2px solid var(--fill-color);\n",
              "    border-color: transparent;\n",
              "    border-bottom-color: var(--fill-color);\n",
              "    animation:\n",
              "      spin 1s steps(1) infinite;\n",
              "  }\n",
              "\n",
              "  @keyframes spin {\n",
              "    0% {\n",
              "      border-color: transparent;\n",
              "      border-bottom-color: var(--fill-color);\n",
              "      border-left-color: var(--fill-color);\n",
              "    }\n",
              "    20% {\n",
              "      border-color: transparent;\n",
              "      border-left-color: var(--fill-color);\n",
              "      border-top-color: var(--fill-color);\n",
              "    }\n",
              "    30% {\n",
              "      border-color: transparent;\n",
              "      border-left-color: var(--fill-color);\n",
              "      border-top-color: var(--fill-color);\n",
              "      border-right-color: var(--fill-color);\n",
              "    }\n",
              "    40% {\n",
              "      border-color: transparent;\n",
              "      border-right-color: var(--fill-color);\n",
              "      border-top-color: var(--fill-color);\n",
              "    }\n",
              "    60% {\n",
              "      border-color: transparent;\n",
              "      border-right-color: var(--fill-color);\n",
              "    }\n",
              "    80% {\n",
              "      border-color: transparent;\n",
              "      border-right-color: var(--fill-color);\n",
              "      border-bottom-color: var(--fill-color);\n",
              "    }\n",
              "    90% {\n",
              "      border-color: transparent;\n",
              "      border-bottom-color: var(--fill-color);\n",
              "    }\n",
              "  }\n",
              "</style>\n",
              "\n",
              "      <script>\n",
              "        async function quickchart(key) {\n",
              "          const quickchartButtonEl =\n",
              "            document.querySelector('#' + key + ' button');\n",
              "          quickchartButtonEl.disabled = true;  // To prevent multiple clicks.\n",
              "          quickchartButtonEl.classList.add('colab-df-spinner');\n",
              "          try {\n",
              "            const charts = await google.colab.kernel.invokeFunction(\n",
              "                'suggestCharts', [key], {});\n",
              "          } catch (error) {\n",
              "            console.error('Error during call to suggestCharts:', error);\n",
              "          }\n",
              "          quickchartButtonEl.classList.remove('colab-df-spinner');\n",
              "          quickchartButtonEl.classList.add('colab-df-quickchart-complete');\n",
              "        }\n",
              "        (() => {\n",
              "          let quickchartButtonEl =\n",
              "            document.querySelector('#df-acbdbe85-a164-4254-87c6-46e804052c10 button');\n",
              "          quickchartButtonEl.style.display =\n",
              "            google.colab.kernel.accessAllowed ? 'block' : 'none';\n",
              "        })();\n",
              "      </script>\n",
              "    </div>\n",
              "\n",
              "    </div>\n",
              "  </div>\n"
            ],
            "text/plain": [
              "     filename  5_o_Clock_Shadow  Arched_Eyebrows  Attractive  Bags_Under_Eyes  \\\n",
              "0  000051.jpg                 1               -1          -1                1   \n",
              "1  000052.jpg                -1               -1          -1                1   \n",
              "2  000065.jpg                -1               -1          -1               -1   \n",
              "3  000166.jpg                 1               -1          -1               -1   \n",
              "4  000198.jpg                -1                1           1               -1   \n",
              "\n",
              "   Bald  Bangs  Big_Lips  Big_Nose  Black_Hair  ...  Sideburns  Smiling  \\\n",
              "0     1     -1        -1         1          -1  ...         -1       -1   \n",
              "1    -1     -1        -1         1          -1  ...         -1       -1   \n",
              "2    -1     -1        -1        -1           1  ...         -1        1   \n",
              "3    -1     -1        -1         1          -1  ...          1       -1   \n",
              "4    -1     -1        -1        -1          -1  ...         -1       -1   \n",
              "\n",
              "   Straight_Hair  Wavy_Hair  Wearing_Earrings  Wearing_Hat  Wearing_Lipstick  \\\n",
              "0             -1         -1                -1           -1                -1   \n",
              "1              1         -1                -1           -1                -1   \n",
              "2              1         -1                -1           -1                -1   \n",
              "3             -1         -1                -1            1                -1   \n",
              "4             -1         -1                -1           -1                 1   \n",
              "\n",
              "   Wearing_Necklace  Wearing_Necktie  Young  \n",
              "0                -1               -1     -1  \n",
              "1                -1               -1     -1  \n",
              "2                -1               -1      1  \n",
              "3                -1               -1     -1  \n",
              "4                -1               -1      1  \n",
              "\n",
              "[5 rows x 41 columns]"
            ]
          },
          "execution_count": 10,
          "metadata": {},
          "output_type": "execute_result"
        }
      ],
      "source": [
        "df_attributes.head()"
      ]
    },
    {
      "cell_type": "code",
      "execution_count": 11,
      "metadata": {
        "id": "YcBZQ7rQ376R"
      },
      "outputs": [],
      "source": [
        "# Generate dataset\n",
        "dataset = GenderDataset(df_attributes, image_folder, transform=None)\n",
        "\n",
        "# Split train-test\n",
        "train_size = int(0.8 * len(dataset))\n",
        "test_size = len(dataset) - train_size\n",
        "train_dataset, test_dataset = torch.utils.data.random_split(dataset, [train_size, test_size])"
      ]
    },
    {
      "cell_type": "code",
      "execution_count": 12,
      "metadata": {
        "id": "S5-PRXG538VQ"
      },
      "outputs": [],
      "source": [
        "# DataLoader\n",
        "train_loader = DataLoader(train_dataset, batch_size=32, shuffle=True)\n",
        "test_loader = DataLoader(test_dataset, batch_size=32, shuffle=False)"
      ]
    },
    {
      "cell_type": "code",
      "execution_count": 13,
      "metadata": {
        "colab": {
          "base_uri": "https://localhost:8080/"
        },
        "id": "M0IEWJXo39zH",
        "outputId": "c1536507-ff4d-4088-8cdc-3218c4088cee"
      },
      "outputs": [
        {
          "name": "stderr",
          "output_type": "stream",
          "text": [
            "/usr/local/lib/python3.11/dist-packages/torchvision/models/_utils.py:208: UserWarning: The parameter 'pretrained' is deprecated since 0.13 and may be removed in the future, please use 'weights' instead.\n",
            "  warnings.warn(\n",
            "/usr/local/lib/python3.11/dist-packages/torchvision/models/_utils.py:223: UserWarning: Arguments other than a weight enum or `None` for 'weights' are deprecated since 0.13 and may be removed in the future. The current behavior is equivalent to passing `weights=GoogLeNet_Weights.IMAGENET1K_V1`. You can also use `weights=GoogLeNet_Weights.DEFAULT` to get the most up-to-date weights.\n",
            "  warnings.warn(msg)\n",
            "Downloading: \"https://download.pytorch.org/models/googlenet-1378be20.pth\" to /root/.cache/torch/hub/checkpoints/googlenet-1378be20.pth\n",
            "100%|██████████| 49.7M/49.7M [00:00<00:00, 134MB/s]\n"
          ]
        }
      ],
      "source": [
        "# Pretrained googlenet\n",
        "model = models.googlenet(pretrained=True)\n",
        "model.fc = nn.Linear(model.fc.in_features, 2)  # 2 classes: Male, Female\n",
        "\n",
        "device = torch.device('cuda' if torch.cuda.is_available() else 'cpu')\n",
        "model = model.to(device)"
      ]
    },
    {
      "cell_type": "code",
      "execution_count": 14,
      "metadata": {
        "id": "HaGToJft4u75"
      },
      "outputs": [],
      "source": [
        "# Loss dan optimizer\n",
        "criterion = nn.CrossEntropyLoss()\n",
        "optimizer = optim.Adam(model.parameters(), lr=0.001)"
      ]
    },
    {
      "cell_type": "code",
      "execution_count": 15,
      "metadata": {
        "colab": {
          "base_uri": "https://localhost:8080/"
        },
        "id": "AWTopLQt3-_N",
        "outputId": "fe3c01b5-a192-4da0-ab45-507515f5ac38"
      },
      "outputs": [
        {
          "name": "stdout",
          "output_type": "stream",
          "text": [
            "Using device: cuda\n",
            "Starting training...\n",
            "Epoch [1/10], Batch [0], Loss: 0.7287\n",
            "Epoch [1/10], Batch [100], Loss: 0.2426\n",
            "Epoch [1/10] - Train Loss: 0.1974, Train Accuracy: 92.12%, Test Loss: 0.1220, Test Accuracy: 95.30%\n",
            "Epoch [2/10], Batch [0], Loss: 0.1160\n",
            "Epoch [2/10], Batch [100], Loss: 0.1474\n",
            "Epoch [2/10] - Train Loss: 0.0986, Train Accuracy: 96.53%, Test Loss: 0.1421, Test Accuracy: 95.40%\n",
            "Epoch [3/10], Batch [0], Loss: 0.0301\n",
            "Epoch [3/10], Batch [100], Loss: 0.0410\n",
            "Epoch [3/10] - Train Loss: 0.0776, Train Accuracy: 96.95%, Test Loss: 0.1381, Test Accuracy: 94.90%\n",
            "Epoch [4/10], Batch [0], Loss: 0.0325\n",
            "Epoch [4/10], Batch [100], Loss: 0.0667\n",
            "Epoch [4/10] - Train Loss: 0.0530, Train Accuracy: 98.03%, Test Loss: 0.0956, Test Accuracy: 97.00%\n",
            "Epoch [5/10], Batch [0], Loss: 0.0118\n",
            "Epoch [5/10], Batch [100], Loss: 0.0738\n",
            "Epoch [5/10] - Train Loss: 0.0329, Train Accuracy: 98.72%, Test Loss: 0.1037, Test Accuracy: 96.40%\n",
            "Epoch [6/10], Batch [0], Loss: 0.0026\n",
            "Epoch [6/10], Batch [100], Loss: 0.0092\n",
            "Epoch [6/10] - Train Loss: 0.0424, Train Accuracy: 98.30%, Test Loss: 0.1483, Test Accuracy: 96.00%\n",
            "Epoch [7/10], Batch [0], Loss: 0.0041\n",
            "Epoch [7/10], Batch [100], Loss: 0.0043\n",
            "Epoch [7/10] - Train Loss: 0.0303, Train Accuracy: 98.80%, Test Loss: 0.1559, Test Accuracy: 96.10%\n",
            "Epoch [8/10], Batch [0], Loss: 0.0007\n",
            "Epoch [8/10], Batch [100], Loss: 0.0239\n",
            "Epoch [8/10] - Train Loss: 0.0480, Train Accuracy: 98.15%, Test Loss: 0.3209, Test Accuracy: 88.70%\n",
            "Epoch [9/10], Batch [0], Loss: 0.0039\n",
            "Epoch [9/10], Batch [100], Loss: 0.0168\n",
            "Epoch [9/10] - Train Loss: 0.0219, Train Accuracy: 99.33%, Test Loss: 0.1290, Test Accuracy: 95.50%\n",
            "Epoch [10/10], Batch [0], Loss: 0.0013\n",
            "Epoch [10/10], Batch [100], Loss: 0.0068\n",
            "Epoch [10/10] - Train Loss: 0.0159, Train Accuracy: 99.47%, Test Loss: 0.1351, Test Accuracy: 96.70%\n",
            "Training completed!\n",
            "\n",
            "Test Accuracy: 96.70%\n",
            "\n",
            "Classification Report:\n",
            "              precision    recall  f1-score   support\n",
            "\n",
            "      Female       0.98      0.97      0.97       576\n",
            "        Male       0.95      0.97      0.96       424\n",
            "\n",
            "    accuracy                           0.97      1000\n",
            "   macro avg       0.97      0.97      0.97      1000\n",
            "weighted avg       0.97      0.97      0.97      1000\n",
            "\n",
            "Model evaluation completed!\n"
          ]
        }
      ],
      "source": [
        "print(f\"Using device: {device}\")\n",
        "print(\"Starting training...\")\n",
        "\n",
        "train_loss = []\n",
        "train_acc = []\n",
        "test_loss = []\n",
        "test_acc = []\n",
        "\n",
        "# Training\n",
        "num_epochs = 10\n",
        "for epoch in range(num_epochs):\n",
        "    model.train()\n",
        "    running_loss = 0.0\n",
        "    correct = 0\n",
        "    total = 0\n",
        "\n",
        "    for batch_idx, (images, labels) in enumerate(train_loader):\n",
        "        # Adam Optimizer Gradien\n",
        "        images, labels = images.to(device), labels.to(device)\n",
        "\n",
        "        optimizer.zero_grad()\n",
        "        outputs = model(images)\n",
        "        loss = criterion(outputs, labels)\n",
        "        loss.backward()\n",
        "        optimizer.step()\n",
        "\n",
        "        running_loss += loss.item()\n",
        "        _, predicted = torch.max(outputs.data, 1)\n",
        "        total += labels.size(0)\n",
        "        correct += (predicted == labels).sum().item()\n",
        "\n",
        "        if batch_idx % 100 == 0:\n",
        "            print(f'Epoch [{epoch+1}/{num_epochs}], Batch [{batch_idx}], Loss: {loss.item():.4f}')\n",
        "\n",
        "    epoch_acc = 100 * correct / total\n",
        "    epoch_loss = running_loss / len(train_loader)\n",
        "    train_loss.append(epoch_loss)\n",
        "    train_acc.append(epoch_acc)\n",
        "\n",
        "    # Evaluasi per epoch\n",
        "    model.eval()\n",
        "    test_running_loss = 0.0\n",
        "    test_correct = 0\n",
        "    test_total = 0\n",
        "\n",
        "    with torch.no_grad():\n",
        "        for images, labels in test_loader:\n",
        "            images, labels = images.to(device), labels.to(device)\n",
        "            outputs = model(images)\n",
        "            loss = criterion(outputs, labels)\n",
        "\n",
        "            test_running_loss += loss.item()\n",
        "            _, predicted = torch.max(outputs, 1)\n",
        "            test_total += labels.size(0)\n",
        "            test_correct += (predicted == labels).sum().item()\n",
        "\n",
        "    test_epoch_acc = 100 * test_correct / test_total\n",
        "    test_epoch_loss = test_running_loss / len(test_loader)\n",
        "    test_loss.append(test_epoch_loss)\n",
        "    test_acc.append(test_epoch_acc)\n",
        "\n",
        "    print(f'Epoch [{epoch+1}/{num_epochs}] - Train Loss: {epoch_loss:.4f}, Train Accuracy: {epoch_acc:.2f}%, Test Loss: {test_epoch_loss:.4f}, Test Accuracy: {test_epoch_acc:.2f}%')\n",
        "\n",
        "print(\"Training completed!\")\n",
        "\n",
        "# Testing\n",
        "model.eval()\n",
        "all_predictions = []\n",
        "all_labels = []\n",
        "\n",
        "with torch.no_grad():\n",
        "    correct = 0\n",
        "    total = 0\n",
        "    for images, labels in test_loader:\n",
        "        images, labels = images.to(device), labels.to(device)\n",
        "        outputs = model(images)\n",
        "        _, predicted = torch.max(outputs, 1)\n",
        "        all_predictions.extend(predicted.cpu().numpy())\n",
        "        all_labels.extend(labels.cpu().numpy())\n",
        "        total += labels.size(0)\n",
        "        correct += (predicted == labels).sum().item()\n",
        "\n",
        "# Metrik testing\n",
        "test_accuracy = 100 * correct / total\n",
        "print(f'\\nTest Accuracy: {test_accuracy:.2f}%')\n",
        "\n",
        "# Classification report\n",
        "class_names = ['Female', 'Male']\n",
        "print(\"\\nClassification Report:\")\n",
        "print(classification_report(all_labels, all_predictions, target_names=class_names))\n",
        "\n",
        "print(\"Model evaluation completed!\")"
      ]
    },
    {
      "cell_type": "code",
      "execution_count": 16,
      "metadata": {
        "id": "2UtgbyP14ATw"
      },
      "outputs": [],
      "source": [
        "from sklearn.metrics import confusion_matrix\n",
        "import seaborn as sns\n",
        "import matplotlib.pyplot as plt\n",
        "# Kelupaan"
      ]
    },
    {
      "cell_type": "code",
      "execution_count": 17,
      "metadata": {
        "colab": {
          "base_uri": "https://localhost:8080/",
          "height": 512
        },
        "id": "dFMyhR7k4Byn",
        "outputId": "13dd79f4-4b14-4b11-c25b-d7e2082c0620"
      },
      "outputs": [
        {
          "data": {
            "image/png": "[encoded data removed]",
            "text/plain": [
              "<Figure size 1500x500 with 2 Axes>"
            ]
          },
          "metadata": {},
          "output_type": "display_data"
        }
      ],
      "source": [
        "fig, (ax1, ax2) = plt.subplots(1, 2, figsize=(15, 5))\n",
        "\n",
        "epochs = range(1, num_epochs + 1)\n",
        "ax1.plot(epochs, [acc/100 for acc in train_acc], 'b-', label='Train Accuracy', linewidth=2)\n",
        "ax1.plot(epochs, [acc/100 for acc in test_acc], 'orange', label='Test Accuracy', linewidth=2)\n",
        "ax1.set_xlabel('Epoch')\n",
        "ax1.set_ylabel('Accuracy')\n",
        "ax1.set_title('Accuracy per Epoch')\n",
        "ax1.legend()\n",
        "ax1.grid(True, alpha=0.3)\n",
        "ax1.set_ylim(0.8, 1.01) # Batas bawah diganti ke 0.8\n",
        "\n",
        "ax2.plot(epochs, train_loss, 'b-', label='Train Loss', linewidth=2)\n",
        "ax2.plot(epochs, test_loss, 'orange', label='Test Loss', linewidth=2)\n",
        "ax2.set_xlabel('Epoch')\n",
        "ax2.set_ylabel('Loss')\n",
        "ax2.set_title('Loss per Epoch')\n",
        "ax2.legend()\n",
        "ax2.grid(True, alpha=0.3)\n",
        "\n",
        "fig.suptitle('Model Evaluation\\n\\nGoogleNet', fontsize=16, fontweight='bold')\n",
        "\n",
        "plt.tight_layout()\n",
        "plt.show()"
      ]
    },
    {
      "cell_type": "code",
      "execution_count": 18,
      "metadata": {
        "colab": {
          "base_uri": "https://localhost:8080/",
          "height": 407
        },
        "id": "cRdg3fZ64D_b",
        "outputId": "cd613386-a0f6-4f4f-9c46-307f77b5d61f"
      },
      "outputs": [
        {
          "data": {
            "image/png": "[encoded data removed]",
            "text/plain": [
              "<Figure size 600x400 with 2 Axes>"
            ]
          },
          "metadata": {},
          "output_type": "display_data"
        }
      ],
      "source": [
        "# Confusion Matrix\n",
        "cm = confusion_matrix(all_labels, all_predictions)\n",
        "\n",
        "# Visualisasi Confusion Matrix\n",
        "plt.figure(figsize=(6, 4))\n",
        "sns.heatmap(cm, annot=True, fmt='d', cmap='Blues', xticklabels=class_names, yticklabels=class_names)\n",
        "plt.xlabel('Predicted Labels')\n",
        "plt.ylabel('True Labels')\n",
        "plt.title('Confusion Matrix w GoogleNet')\n",
        "plt.tight_layout()\n",
        "plt.show()\n"
      ]
    }
  ],
  "metadata": {
    "accelerator": "GPU",
    "colab": {
      "gpuType": "T4",
      "provenance": []
    },
    "kernelspec": {
      "display_name": "Python 3",
      "name": "python3"
    },
    "language_info": {
      "name": "python"
    }
  },
  "nbformat": 4,
  "nbformat_minor": 0
}
